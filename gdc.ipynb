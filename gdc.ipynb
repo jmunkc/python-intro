{
 "cells": [
  {
   "attachments": {},
   "cell_type": "markdown",
   "metadata": {},
   "source": [
    "# Decorators"
   ]
  },
  {
   "cell_type": "code",
   "execution_count": 87,
   "metadata": {},
   "outputs": [],
   "source": [
    "\n",
    "def logger(func):\n",
    "    def wrapper(*args):\n",
    "        import csv\n",
    "        from datetime import datetime\n",
    "\n",
    "        msg = func(*args)\n",
    "        \n",
    "        with open('log.csv', 'a', newline='') as f:\n",
    "            writer = csv.writer(f)\n",
    "            writer.writerow([datetime.now(), msg]) \n",
    "            f.close\n",
    "        return msg            \n",
    "    return wrapper"
   ]
  },
  {
   "cell_type": "code",
   "execution_count": 88,
   "metadata": {},
   "outputs": [
    {
     "name": "stdout",
     "output_type": "stream",
     "text": [
      "name 'wrapper' is not defined\n"
     ]
    }
   ],
   "source": [
    "try:\n",
    "    wrapper()\n",
    "except Exception as err:\n",
    "    print(err)"
   ]
  },
  {
   "cell_type": "code",
   "execution_count": 89,
   "metadata": {},
   "outputs": [
    {
     "data": {
      "text/plain": [
       "'some message'"
      ]
     },
     "execution_count": 89,
     "metadata": {},
     "output_type": "execute_result"
    }
   ],
   "source": [
    "def msg():\n",
    "    return 'some message'\n",
    "\n",
    "msg = logger(msg)\n",
    "\n",
    "msg()"
   ]
  },
  {
   "cell_type": "code",
   "execution_count": 90,
   "metadata": {},
   "outputs": [],
   "source": [
    "@logger\n",
    "def login(username, pswd):\n",
    "    try:\n",
    "        # some login logic\n",
    "        return f'{username} logged in'\n",
    "    except:\n",
    "        return f'{username} not found'\n"
   ]
  },
  {
   "cell_type": "code",
   "execution_count": 91,
   "metadata": {},
   "outputs": [
    {
     "data": {
      "text/plain": [
       "'jonas logged in'"
      ]
     },
     "execution_count": 91,
     "metadata": {},
     "output_type": "execute_result"
    }
   ],
   "source": [
    "login('jonas', 'p_assword')"
   ]
  },
  {
   "attachments": {},
   "cell_type": "markdown",
   "metadata": {},
   "source": [
    "# Generators"
   ]
  },
  {
   "cell_type": "code",
   "execution_count": 92,
   "metadata": {},
   "outputs": [
    {
     "name": "stdout",
     "output_type": "stream",
     "text": [
      "ingrid marie & clara friis\n",
      "belleboskop & conference\n",
      "pink lady & gråpære\n"
     ]
    }
   ],
   "source": [
    "class Apples:\n",
    "    def __init__(self, type):\n",
    "        self.type = type\n",
    "    \n",
    "    def __str__(self) -> str:\n",
    "        return f'{self.type}'\n",
    "\n",
    "class Pears:\n",
    "    def __init__(self, type):\n",
    "        self.type = type\n",
    "    \n",
    "    def __str__(self) -> str:\n",
    "        return f'{self.type}'\n",
    "\n",
    "class MixFruitPackage:\n",
    "    def __init__(self, apples=[], pears=[]):\n",
    "        self.apples = apples\n",
    "        self.pears = pears\n",
    "    \n",
    "    def __repr__(self):\n",
    "        return self.__dict__\n",
    "    \n",
    "    def __iter__(self):\n",
    "        self.index = 0\n",
    "        return self\n",
    "\n",
    "    def __next__(self):\n",
    "        current = self.index\n",
    "        self.index += 1\n",
    "        if self.index > len(self.apples) or self.index > len(self.pears):\n",
    "            raise StopIteration()\n",
    "        return f'{self.apples[current]} & {self.pears[current]}'\n",
    "\n",
    "apples = ['ingrid marie', 'belleboskop', 'pink lady']\n",
    "pears = ['clara friis', 'conference', 'gråpære']\n",
    "\n",
    "mix_fruit = MixFruitPackage(apples, pears)\n",
    "it = iter(mix_fruit)\n",
    "\n",
    "for x in it:\n",
    "  print(x)"
   ]
  },
  {
   "cell_type": "code",
   "execution_count": 93,
   "metadata": {},
   "outputs": [
    {
     "name": "stdout",
     "output_type": "stream",
     "text": [
      "('ingrid marie', 'clara friis')\n",
      "('belleboskop', 'conference')\n",
      "('pink lady', 'gråpære')\n"
     ]
    }
   ],
   "source": [
    "def mix2(apples, pears):\n",
    "    for i in zip(apples, pears):\n",
    "        yield f'{i}'\n",
    "\n",
    "gen_func = mix2(apples, pears)\n",
    "\n",
    "print(next(gen_func))\n",
    "print(next(gen_func))\n",
    "print(next(gen_func))"
   ]
  },
  {
   "cell_type": "code",
   "execution_count": 94,
   "metadata": {},
   "outputs": [
    {
     "name": "stdout",
     "output_type": "stream",
     "text": [
      "('ingrid marie', 'clara friis')\n",
      "('belleboskop', 'conference')\n",
      "('pink lady', 'gråpære')\n"
     ]
    }
   ],
   "source": [
    "gen_exp = (i for i in zip(apples, pears))\n",
    "\n",
    "for i in gen_exp:\n",
    "    print(i)"
   ]
  },
  {
   "attachments": {},
   "cell_type": "markdown",
   "metadata": {},
   "source": [
    "# Context Manager"
   ]
  },
  {
   "cell_type": "code",
   "execution_count": 103,
   "metadata": {},
   "outputs": [
    {
     "name": "stdout",
     "output_type": "stream",
     "text": [
      "['2023-01-02 21:12:59.536115,some message\\n', '2023-01-02 21:14:05.274014,some message\\n', '2023-01-02 21:14:09.232704,jonas logged in\\n', '2023-01-02 21:14:24.681327,some message\\n', '2023-01-02 21:14:24.811928,jonas logged in\\n', '2023-01-02 21:17:22.747308,some message\\n', '2023-01-02 21:17:22.916076,jonas logged in\\n', '2023-01-02 21:19:12.275303,some message\\n', '2023-01-02 21:19:12.448890,jonas logged in\\n', '2023-01-02 21:19:29.358461,jonas logged in\\n', '2023-01-02 21:19:31.841436,some message\\n', '2023-01-02 21:19:32.037367,jonas logged in\\n', '2023-01-02 22:42:21.745164,some message\\n', '2023-01-02 22:42:21.906230,jonas logged in\\n']\n"
     ]
    }
   ],
   "source": [
    "class OpenLog():\n",
    "    def __init__(self, logname, mode='r'):\n",
    "        self.logname = logname\n",
    "        self.mode = mode\n",
    "\n",
    "    def __enter__(self):\n",
    "        self.log = open(self.logname, self.mode)\n",
    "        return self.log\n",
    "\n",
    "    def __exit__(self, *args):\n",
    "        self.log.close()\n",
    "\n",
    "with OpenLog('log.csv') as l:\n",
    "    log = l.readlines()\n",
    "    print(log)"
   ]
  },
  {
   "cell_type": "code",
   "execution_count": 104,
   "metadata": {},
   "outputs": [],
   "source": [
    "from contextlib import contextmanager\n",
    "import json\n",
    "\n",
    "@contextmanager\n",
    "def open_file(filename, mode):\n",
    "    f = open(filename, mode)\n",
    "    try:\n",
    "        yield f\n",
    "    finally:\n",
    "        f.close()\n",
    "\n",
    "\n",
    "with open_file('log.json', 'w') as j:\n",
    "    dump = json.dumps(log)\n",
    "    j.write(dump)"
   ]
  }
 ],
 "metadata": {
  "kernelspec": {
   "display_name": "Python 3",
   "language": "python",
   "name": "python3"
  },
  "language_info": {
   "codemirror_mode": {
    "name": "ipython",
    "version": 3
   },
   "file_extension": ".py",
   "mimetype": "text/x-python",
   "name": "python",
   "nbconvert_exporter": "python",
   "pygments_lexer": "ipython3",
   "version": "3.10.6"
  },
  "orig_nbformat": 4,
  "vscode": {
   "interpreter": {
    "hash": "916dbcbb3f70747c44a77c7bcd40155683ae19c65e1c03b4aa3499c5328201f1"
   }
  }
 },
 "nbformat": 4,
 "nbformat_minor": 2
}
