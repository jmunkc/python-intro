{
 "cells": [
  {
   "cell_type": "code",
   "execution_count": 130,
   "metadata": {},
   "outputs": [],
   "source": [
    "class Wine():\n",
    "\n",
    "    species = 'vitis vinifera'\n",
    "\n",
    "    def __init__(self, grape, area, vintage: int):\n",
    "        self.grape = grape\n",
    "        self.area = area\n",
    "        self.vintage = vintage\n",
    "        self.__leagal_age = 16 \n",
    "\n",
    "    @property\n",
    "    def leagal_age(self):\n",
    "        return self.__leagal_age\n",
    "\n",
    "    @leagal_age.setter\n",
    "    def leagal_age(self, new_age):\n",
    "        self.__leagal_age = new_age\n",
    "\n",
    "    def __str__(self):\n",
    "        return f\"This {self.__class__.__name__} is a {self.vintage} made on {self.grape} from {self.area}\"\n",
    "\n",
    "\n",
    "    def __repr__(self) -> str:\n",
    "        return f'{self.__dict__}'\n",
    "\n",
    "    def drink_now(self):\n",
    "        pass"
   ]
  },
  {
   "cell_type": "code",
   "execution_count": 131,
   "metadata": {},
   "outputs": [
    {
     "name": "stdout",
     "output_type": "stream",
     "text": [
      "vitis vinifera\n",
      "This Wine is a 2010 made on this grape from some area\n",
      "{'grape': 'this grape', 'area': 'some area', 'vintage': 2010, '_Wine__leagal_age': 16}\n"
     ]
    }
   ],
   "source": [
    "wine = Wine('this grape', 'some area', 2010)\n",
    "print(wine.species)\n",
    "print(wine)\n",
    "print(repr(wine))\n",
    "\n",
    "# wine.drink_now()"
   ]
  },
  {
   "cell_type": "code",
   "execution_count": 132,
   "metadata": {},
   "outputs": [
    {
     "name": "stdout",
     "output_type": "stream",
     "text": [
      "'Wine' object has no attribute '__leagal_age'\n"
     ]
    }
   ],
   "source": [
    "try:\n",
    "    print(wine.__leagal_age)\n",
    "except Exception as err:\n",
    "    print(err)"
   ]
  },
  {
   "cell_type": "code",
   "execution_count": 133,
   "metadata": {},
   "outputs": [
    {
     "name": "stdout",
     "output_type": "stream",
     "text": [
      "16\n",
      "18\n",
      "18\n"
     ]
    }
   ],
   "source": [
    "print(wine.leagal_age)\n",
    "wine.leagal_age = 18\n",
    "print(wine.leagal_age)\n",
    "print(wine._Wine__leagal_age)\n"
   ]
  },
  {
   "cell_type": "code",
   "execution_count": 134,
   "metadata": {},
   "outputs": [],
   "source": [
    "class Barolo(Wine):\n",
    "    def drink_now(self):\n",
    "        return 'yes' if self.vintage < 2010 else 'no'"
   ]
  },
  {
   "cell_type": "code",
   "execution_count": 135,
   "metadata": {},
   "outputs": [
    {
     "name": "stdout",
     "output_type": "stream",
     "text": [
      "vitis vinifera\n",
      "16\n",
      "This Barolo is a 2009 made on nebbiolo from Monforte\n"
     ]
    },
    {
     "data": {
      "text/plain": [
       "'yes'"
      ]
     },
     "execution_count": 135,
     "metadata": {},
     "output_type": "execute_result"
    }
   ],
   "source": [
    "barolo = Barolo('nebbiolo', 'Monforte', 2009)\n",
    "print(barolo.species)\n",
    "print(barolo.leagal_age)\n",
    "print(barolo)\n",
    "barolo.drink_now()"
   ]
  },
  {
   "cell_type": "code",
   "execution_count": 136,
   "metadata": {},
   "outputs": [],
   "source": [
    "from abc import ABC, abstractmethod\n",
    "\n",
    "class Base(ABC):\n",
    "    def __init__(self, name):\n",
    "        self.name = name\n",
    "    \n",
    "    @abstractmethod\n",
    "    def say_hello(self):\n",
    "        pass"
   ]
  },
  {
   "cell_type": "code",
   "execution_count": 137,
   "metadata": {},
   "outputs": [
    {
     "name": "stdout",
     "output_type": "stream",
     "text": [
      "Can't instantiate abstract class Base with abstract method say_hello\n"
     ]
    }
   ],
   "source": [
    "try:\n",
    "    base = Base()\n",
    "except Exception as err:\n",
    "    print(err)"
   ]
  },
  {
   "cell_type": "code",
   "execution_count": 138,
   "metadata": {},
   "outputs": [],
   "source": [
    "class Child(Base):\n",
    "\n",
    "    def say_hello(self):\n",
    "        print('Hello i am an implentation of an abstract method')"
   ]
  },
  {
   "cell_type": "code",
   "execution_count": 139,
   "metadata": {},
   "outputs": [
    {
     "name": "stdout",
     "output_type": "stream",
     "text": [
      "Hello i am an implentation of an abstract method\n"
     ]
    }
   ],
   "source": [
    "child = Child('child class')\n",
    "child.say_hello()\n"
   ]
  },
  {
   "cell_type": "code",
   "execution_count": 153,
   "metadata": {},
   "outputs": [],
   "source": [
    "class Number:\n",
    "    def __init__(self, num=None, num_list=None):\n",
    "        self.num = num\n",
    "        self.num_list = num_list\n",
    "\n",
    "    def __str__(self) -> str:\n",
    "        return f'I am {self.num}'\n",
    "\n",
    "    def __repr__(self) -> str:\n",
    "        return f'{self.__dict__}'\n",
    "\n",
    "    def __len__(self):\n",
    "        return len(self.num_list)\n",
    "    \n",
    "    def __getitem__(self, key):\n",
    "        return self.num_list[key]\n",
    "    \n",
    "    def __add__(self, other):\n",
    "        return self.num + other.num"
   ]
  },
  {
   "cell_type": "code",
   "execution_count": 156,
   "metadata": {},
   "outputs": [
    {
     "name": "stdout",
     "output_type": "stream",
     "text": [
      "I am 2\n",
      "{'num': 2, 'num_list': [1, 2, 3]}\n",
      "3\n",
      "2\n",
      "5\n"
     ]
    }
   ],
   "source": [
    "num1 = Number(2, [1,2,3])\n",
    "print(num1)\n",
    "\n",
    "print(repr(num1))\n",
    "\n",
    "print(len(num1))\n",
    "\n",
    "print(num1[1])\n",
    "\n",
    "num2 = Number(3)\n",
    "\n",
    "print(num1 + num2)\n"
   ]
  }
 ],
 "metadata": {
  "kernelspec": {
   "display_name": "Python 3",
   "language": "python",
   "name": "python3"
  },
  "language_info": {
   "codemirror_mode": {
    "name": "ipython",
    "version": 3
   },
   "file_extension": ".py",
   "mimetype": "text/x-python",
   "name": "python",
   "nbconvert_exporter": "python",
   "pygments_lexer": "ipython3",
   "version": "3.10.6"
  },
  "orig_nbformat": 4,
  "vscode": {
   "interpreter": {
    "hash": "916dbcbb3f70747c44a77c7bcd40155683ae19c65e1c03b4aa3499c5328201f1"
   }
  }
 },
 "nbformat": 4,
 "nbformat_minor": 2
}
