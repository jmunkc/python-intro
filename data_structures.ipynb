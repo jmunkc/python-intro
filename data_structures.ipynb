{
 "cells": [
  {
   "cell_type": "code",
   "execution_count": 211,
   "metadata": {},
   "outputs": [
    {
     "name": "stdout",
     "output_type": "stream",
     "text": [
      "list: [1, 2, 3]\n",
      "tuple: (1, 2.2, 'three')\n",
      "dict: {'one': 1, 'two': 2, 'three': 3}\n",
      "set: {1, 2, 3}\n"
     ]
    }
   ],
   "source": [
    "a_list = [1, 2, 3]  \n",
    "\n",
    "a_tuple = (1, 2.2, 'three')\n",
    "\n",
    "a_dictionary = {'one': 1, 'two': 2, 'three': 3}\n",
    "\n",
    "a_set = {1, 2, 3}\n",
    "\n",
    "print(f'list: {a_list}\\ntuple: {a_tuple}\\ndict: {a_dictionary}\\nset: {a_set}')"
   ]
  },
  {
   "cell_type": "code",
   "execution_count": 212,
   "metadata": {},
   "outputs": [
    {
     "data": {
      "text/plain": [
       "(3, 3, 3, 3)"
      ]
     },
     "execution_count": 212,
     "metadata": {},
     "output_type": "execute_result"
    }
   ],
   "source": [
    "len(a_list), len(a_tuple), len(a_dictionary), len(a_set)"
   ]
  },
  {
   "cell_type": "code",
   "execution_count": 213,
   "metadata": {},
   "outputs": [
    {
     "data": {
      "text/plain": [
       "(list, tuple, dict, set)"
      ]
     },
     "execution_count": 213,
     "metadata": {},
     "output_type": "execute_result"
    }
   ],
   "source": [
    "type(a_list), type(a_tuple), type(a_dictionary), type(a_set)"
   ]
  },
  {
   "cell_type": "code",
   "execution_count": 244,
   "metadata": {},
   "outputs": [
    {
     "name": "stdout",
     "output_type": "stream",
     "text": [
      "[1, 2, 3, 1, 2, 3]\n",
      "(1, 2.2, 'three', 1, 2.2, 'three')\n",
      "[1, 2, 3, 1, 2, 3]\n",
      "(1, 2.2, 'three', 1, 2.2, 'three')\n"
     ]
    }
   ],
   "source": [
    "print(a_list + a_list)\n",
    "print(a_tuple + a_tuple)\n",
    "\n",
    "print(a_list * 2)\n",
    "print(a_tuple * 2)"
   ]
  },
  {
   "cell_type": "code",
   "execution_count": 246,
   "metadata": {},
   "outputs": [
    {
     "data": {
      "text/plain": [
       "(2, 2.2, 1)"
      ]
     },
     "execution_count": 246,
     "metadata": {},
     "output_type": "execute_result"
    }
   ],
   "source": [
    "a_list[1], a_tuple[1], a_dictionary['one']"
   ]
  },
  {
   "cell_type": "code",
   "execution_count": 216,
   "metadata": {},
   "outputs": [
    {
     "data": {
      "text/plain": [
       "([2], (2.2,))"
      ]
     },
     "execution_count": 216,
     "metadata": {},
     "output_type": "execute_result"
    }
   ],
   "source": [
    "a_list[1:2], a_tuple[1:2]"
   ]
  },
  {
   "cell_type": "code",
   "execution_count": 217,
   "metadata": {},
   "outputs": [
    {
     "data": {
      "text/plain": [
       "([3, 2, 1], ('three', 2.2, 1))"
      ]
     },
     "execution_count": 217,
     "metadata": {},
     "output_type": "execute_result"
    }
   ],
   "source": [
    "a_list[::-1], a_tuple[::-1]"
   ]
  },
  {
   "cell_type": "code",
   "execution_count": 218,
   "metadata": {},
   "outputs": [
    {
     "name": "stdout",
     "output_type": "stream",
     "text": [
      "[1, 4, 5, 6, 3]\n"
     ]
    }
   ],
   "source": [
    "a_list[1:2] = [4, 5, 6]\n",
    "print(a_list)"
   ]
  },
  {
   "cell_type": "code",
   "execution_count": 219,
   "metadata": {},
   "outputs": [
    {
     "name": "stdout",
     "output_type": "stream",
     "text": [
      "[1, [4, 5, 6], 2, 3]\n"
     ]
    }
   ],
   "source": [
    "b_list = [1, 2, 3]\n",
    "b_list.insert(1, [4, 5, 6])\n",
    "print(b_list)"
   ]
  },
  {
   "cell_type": "code",
   "execution_count": 220,
   "metadata": {},
   "outputs": [
    {
     "name": "stdout",
     "output_type": "stream",
     "text": [
      "[4, 5, 6, 3]\n"
     ]
    }
   ],
   "source": [
    "a_list.remove(1)\n",
    "print(a_list)"
   ]
  },
  {
   "cell_type": "code",
   "execution_count": 221,
   "metadata": {},
   "outputs": [
    {
     "name": "stdout",
     "output_type": "stream",
     "text": [
      "[4, 5, 6]\n"
     ]
    }
   ],
   "source": [
    "a_list.pop()\n",
    "print(a_list)"
   ]
  },
  {
   "cell_type": "code",
   "execution_count": 222,
   "metadata": {},
   "outputs": [
    {
     "name": "stdout",
     "output_type": "stream",
     "text": [
      "[4, 5, 6, [1, 2, 3]]\n"
     ]
    }
   ],
   "source": [
    "a_list.append([1, 2, 3])\n",
    "print(a_list)"
   ]
  },
  {
   "cell_type": "code",
   "execution_count": 223,
   "metadata": {},
   "outputs": [
    {
     "data": {
      "text/plain": [
       "[1, [4, 5, 6], 2, 3, 1, 2, 3]"
      ]
     },
     "execution_count": 223,
     "metadata": {},
     "output_type": "execute_result"
    }
   ],
   "source": [
    "b_list + [1, 2, 3]"
   ]
  },
  {
   "cell_type": "code",
   "execution_count": 224,
   "metadata": {},
   "outputs": [
    {
     "name": "stdout",
     "output_type": "stream",
     "text": [
      "[[4, 5, 6], 2, 3]\n",
      "[]\n"
     ]
    }
   ],
   "source": [
    "del b_list[0]\n",
    "print(b_list)\n",
    "b_list.clear()\n",
    "print(b_list)"
   ]
  },
  {
   "cell_type": "code",
   "execution_count": 225,
   "metadata": {},
   "outputs": [
    {
     "name": "stdout",
     "output_type": "stream",
     "text": [
      "[1, 2, 3]\n"
     ]
    }
   ],
   "source": [
    "a_list = a_list[3]\n",
    "print(a_list)"
   ]
  },
  {
   "cell_type": "code",
   "execution_count": 226,
   "metadata": {},
   "outputs": [
    {
     "name": "stdout",
     "output_type": "stream",
     "text": [
      "()\n",
      "(1,)\n"
     ]
    }
   ],
   "source": [
    "t_empty = tuple()\n",
    "t_single = 1,\n",
    "print(t_empty)\n",
    "print(t_single)"
   ]
  },
  {
   "cell_type": "code",
   "execution_count": 227,
   "metadata": {},
   "outputs": [
    {
     "name": "stdout",
     "output_type": "stream",
     "text": [
      "1\n",
      "2.2\n",
      "three\n"
     ]
    }
   ],
   "source": [
    "a, b, c = a_tuple\n",
    "print(a)\n",
    "print(b)\n",
    "print(c)"
   ]
  },
  {
   "cell_type": "code",
   "execution_count": 228,
   "metadata": {},
   "outputs": [
    {
     "name": "stdout",
     "output_type": "stream",
     "text": [
      "{3}\n",
      "{1, 2, 3, 4, 5}\n",
      "{1, 2}\n",
      "{1, 2, 4, 5}\n"
     ]
    }
   ],
   "source": [
    "b_set = set()\n",
    "b_set.add(3)\n",
    "b_set.add(4)\n",
    "b_set.add(5)\n",
    "print(a_set.intersection(b_set))\n",
    "print(a_set.union(b_set))\n",
    "print(a_set.difference(b_set))\n",
    "print(a_set.symmetric_difference(b_set))"
   ]
  },
  {
   "cell_type": "code",
   "execution_count": 229,
   "metadata": {},
   "outputs": [
    {
     "name": "stdout",
     "output_type": "stream",
     "text": [
      "1\n",
      "{'one': 1, 'two': 2, 'three': 3, 'four': 4}\n",
      "{'one': 1, 'two': 2, 'three': 3}\n",
      "dict_keys(['one', 'two', 'three'])\n",
      "dict_values([1, 2, 3])\n",
      "dict_items([('one', 1), ('two', 2), ('three', 3)])\n",
      "2\n"
     ]
    }
   ],
   "source": [
    "print(a_dictionary['one'])\n",
    "\n",
    "a_dictionary['four'] = 4\n",
    "print(a_dictionary)\n",
    "a_dictionary.pop('four')\n",
    "print(a_dictionary)\n",
    "\n",
    "print(a_dictionary.keys())\n",
    "print(a_dictionary.values())\n",
    "print(a_dictionary.items())\n",
    "print(a_dictionary.get('two'))"
   ]
  },
  {
   "cell_type": "code",
   "execution_count": 247,
   "metadata": {},
   "outputs": [
    {
     "name": "stdout",
     "output_type": "stream",
     "text": [
      "[2, 6]\n",
      "{'one': 2, 'two': 4, 'three': 6}\n",
      "{2, 4, 6}\n",
      "<generator object <genexpr> at 0x7fb3f554ca50>\n"
     ]
    }
   ],
   "source": [
    "print([x * 2 for x in a_list if x%2 != 0])\n",
    "\n",
    "print({k:v*2 for (k,v) in a_dictionary.items()})\n",
    "\n",
    "print({elm * 2 for elm in a_set})\n",
    "\n",
    "tuple_comp = (i * 2 for i in a_tuple)\n",
    "print(tuple_comp)"
   ]
  },
  {
   "cell_type": "code",
   "execution_count": 240,
   "metadata": {},
   "outputs": [
    {
     "name": "stdout",
     "output_type": "stream",
     "text": [
      "(2, 4.4, 'threethree')\n"
     ]
    }
   ],
   "source": [
    "print(tuple(tuple_comp))"
   ]
  }
 ],
 "metadata": {
  "kernelspec": {
   "display_name": "Python 3",
   "language": "python",
   "name": "python3"
  },
  "language_info": {
   "codemirror_mode": {
    "name": "ipython",
    "version": 3
   },
   "file_extension": ".py",
   "mimetype": "text/x-python",
   "name": "python",
   "nbconvert_exporter": "python",
   "pygments_lexer": "ipython3",
   "version": "3.10.6"
  },
  "orig_nbformat": 4,
  "vscode": {
   "interpreter": {
    "hash": "916dbcbb3f70747c44a77c7bcd40155683ae19c65e1c03b4aa3499c5328201f1"
   }
  }
 },
 "nbformat": 4,
 "nbformat_minor": 2
}
